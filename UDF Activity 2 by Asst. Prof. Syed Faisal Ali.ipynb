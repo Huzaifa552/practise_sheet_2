{
 "cells": [
  {
   "cell_type": "markdown",
   "metadata": {},
   "source": [
    "# Muhammad Huzaifa Shaikh 19b-010-SE Section A"
   ]
  },
  {
   "cell_type": "markdown",
   "metadata": {},
   "source": [
    "# Python User Define Function Practice Activity - 2 "
   ]
  },
  {
   "cell_type": "markdown",
   "metadata": {},
   "source": [
    "Asst. Prof. Syed Faisal Ali              $\\;\\;\\;\\;\\;\\;$              Programming Fundamentals - FALL 2019 $\\;\\;\\;\\;\\;\\;$ Software Engineering                     $\\;\\;\\;\\;\\;\\;$                   Dated: 27 Nov 2019"
   ]
  },
  {
   "cell_type": "markdown",
   "metadata": {},
   "source": [
    "Question 1: Create a function to find the following:\n",
    "If the base of triangle is 3 cm long and its equilateral triangle and the radius of circle is 1.5 cm then find the area of triangle shaded. \n"
   ]
  },
  {
   "cell_type": "markdown",
   "metadata": {},
   "source": [
    "![proj](q1.jpg)"
   ]
  },
  {
   "cell_type": "code",
   "execution_count": 47,
   "metadata": {},
   "outputs": [
    {
     "name": "stdout",
     "output_type": "stream",
     "text": [
      "Enter the base of triangle: 3\n",
      "Enter the radius of triangle: 1.5\n",
      "Area of shaded region is:  16.31410243160281 cm²\n"
     ]
    }
   ],
   "source": [
    "from math import pi, sin\n",
    "def shadedArea():\n",
    "    base=eval(input(\"Enter the base of triangle: \"))\n",
    "    radius=eval(input(\"Enter the radius of triangle: \"))\n",
    "    height=base*(sin(60*pi/180))\n",
    "    area=(1/2)*height*base\n",
    "    area_circle=pi*radius**2\n",
    "    area_shaded=(area*6)-(area_circle)\n",
    "    print(\"Area of shaded region is: \",area_shaded,\"cm\\u00b2\")\n",
    "    return\n",
    "shadedArea()\n",
    "    "
   ]
  },
  {
   "cell_type": "markdown",
   "metadata": {},
   "source": [
    "Question 2: Create a function which can read a dictionary of your family members such as 5 members. \n",
    "1 Abbu, 1 Ammi, 2 Brothers 1 Sister. Now feed this data in dictionary in terms of name and relations.\n",
    "The UDF will ask findrelation() in this you will enter Brother it will return the names of two brothers you have inserted. In case if the relation is not found it will return “Sorry the relation doesn’t exist in your family.” \n"
   ]
  },
  {
   "cell_type": "code",
   "execution_count": 43,
   "metadata": {},
   "outputs": [
    {
     "name": "stdout",
     "output_type": "stream",
     "text": [
      "Enter the relation you want to know: Abbu\n",
      "Abdulhaq\n"
     ]
    }
   ],
   "source": [
    "def family(relation):\n",
    "    my_family={'Abbu':'Abdulhaq','Ammi':'Nazia','Brothers':'Hamza,Hammad','Sister':'Rimsha'}\n",
    "    if relation == 'Abbu' or 'Ammi' or 'Brothers' or 'Sister':\n",
    "        print(my_family[relation])\n",
    "    elif relation != 'Abbu' or 'Ammi' or 'Brothers' or 'Sister':\n",
    "        print(\"Sorry the relation doesn't exist in your family\")\n",
    "    return\n",
    "relation=str(input(\"Enter the relation you want to know: \"))\n",
    "family(relation)"
   ]
  },
  {
   "cell_type": "markdown",
   "metadata": {},
   "source": [
    "Question 3: Create a function to find the following:\n",
    "If the base of triangle is 5 cm long and its equilateral triangle and the radius of circle is 2.25 cm then find the area of triangle shaded. \n"
   ]
  },
  {
   "cell_type": "markdown",
   "metadata": {},
   "source": [
    "![proj](q3.jpg)"
   ]
  },
  {
   "cell_type": "code",
   "execution_count": 45,
   "metadata": {},
   "outputs": [
    {
     "name": "stdout",
     "output_type": "stream",
     "text": [
      "Enter the radius of triangle: 2.25\n",
      "Area of shaded region is:  2.650718801466388 cm²\n"
     ]
    }
   ],
   "source": [
    "from math import pi, sin\n",
    "def shadedArea():\n",
    "    radius=eval(input(\"Enter the radius of triangle: \"))\n",
    "    area_circle=(pi*radius**2)/6\n",
    "    print(\"Area of shaded region is: \",area_circle,\"cm\\u00b2\")\n",
    "    return\n",
    "shadedArea()\n",
    "    "
   ]
  },
  {
   "cell_type": "markdown",
   "metadata": {},
   "source": [
    "Question 4:\n",
    "Create a function that takes a list of random numbers from users and add only those which are even. If all the numbers are odd it will return sorry no even number found.\n"
   ]
  },
  {
   "cell_type": "code",
   "execution_count": 67,
   "metadata": {},
   "outputs": [
    {
     "name": "stdout",
     "output_type": "stream",
     "text": [
      "please enter the maximum value: 10\n",
      "The sum of Even numbers 1 to 10 = 30\n",
      "The sum of odd numbers 1 to 10 = 25\n"
     ]
    }
   ],
   "source": [
    "def numbers():\n",
    "    max=int(input(\"please enter the maximum value: \"))\n",
    "    even_Sum=0\n",
    "    odd_Sum=0\n",
    "    for num in range(1,max+1):\n",
    "        if (num%2==0):\n",
    "            even_Sum=even_Sum+num\n",
    "        else:\n",
    "            odd_Sum=odd_Sum+num\n",
    "    print(\"The sum of Even numbers 1 to {0} = {1}\".format(num,even_Sum))\n",
    "    print(\"The sum of odd numbers 1 to {0} = {1}\".format(num,odd_Sum))\n",
    "    return\n",
    "numbers()"
   ]
  },
  {
   "cell_type": "markdown",
   "metadata": {},
   "source": [
    "Question 5:\n",
    "Write a function which can take a list of numbers and it will return sorted list.\n"
   ]
  },
  {
   "cell_type": "code",
   "execution_count": 71,
   "metadata": {},
   "outputs": [
    {
     "name": "stdout",
     "output_type": "stream",
     "text": [
      "Enetr the size of list: 5\n",
      "Enter the number at location: 0\n",
      "4\n",
      "Enter the number at location: 1\n",
      "5\n",
      "Enter the number at location: 2\n",
      "8\n",
      "Enter the number at location: 3\n",
      "6\n",
      "Enter the number at location: 4\n",
      "4\n",
      "[4, 5, 8, 6, 4]\n",
      "[4, 4, 5, 6, 8]\n"
     ]
    }
   ],
   "source": [
    "def lst():\n",
    "    list=[]\n",
    "    x=eval(input(\"Enetr the size of list: \"))\n",
    "    for i in range(0,x):\n",
    "        print(\"Enter the number at location:\",i)\n",
    "        number=int(input())\n",
    "        list.append(number)\n",
    "    print(list)\n",
    "    list.sort()\n",
    "    print(list)\n",
    "    return\n",
    "lst()"
   ]
  },
  {
   "cell_type": "markdown",
   "metadata": {},
   "source": [
    "Question 6:\n",
    "Write a function that will take the radius and return the perimeter and area of circle with 5% increment.\n"
   ]
  },
  {
   "cell_type": "code",
   "execution_count": 72,
   "metadata": {},
   "outputs": [
    {
     "name": "stdout",
     "output_type": "stream",
     "text": [
      "The area of circle with 5% increment is:  3.926990816987242 cm²\n",
      "The perimeter of circle with 5% increment is:  1.5707963267948966 cm\n"
     ]
    }
   ],
   "source": [
    "from math import pi\n",
    "def circle(radius):\n",
    "    area_of_circle=pi*(radius**2)\n",
    "    perimeter_of_circle=2*pi*radius\n",
    "    inc_areaofcircle=area_of_circle*0.05\n",
    "    inc_perimeterofcircle=perimeter_of_circle*0.05\n",
    "    print(\"The area of circle with 5% increment is: \",inc_areaofcircle,\"cm\\u00b2\")\n",
    "    print(\"The perimeter of circle with 5% increment is: \",inc_perimeterofcircle,\"cm\")\n",
    "    return\n",
    "circle(5)"
   ]
  },
  {
   "cell_type": "markdown",
   "metadata": {},
   "source": [
    "Question 7:\n",
    "Write a function that will take the strings as argument and return number of vowels and consonants.\n"
   ]
  },
  {
   "cell_type": "code",
   "execution_count": 78,
   "metadata": {},
   "outputs": [
    {
     "name": "stdout",
     "output_type": "stream",
     "text": [
      "Enter your string: Huzaifa Shaikh\n",
      "The number of vowels in your string is:  6\n",
      "The number of cosonants in your string is:  8\n"
     ]
    }
   ],
   "source": [
    "def argument(string):\n",
    "    vowel=0\n",
    "    consonant=0\n",
    "    for i in string:\n",
    "        if i in 'AEIOUaeiou':\n",
    "            vowel = vowel + 1\n",
    "        else:\n",
    "            consonant = consonant + 1\n",
    "    print(\"The number of vowels in your string is: \",vowel)\n",
    "    print(\"The number of cosonants in your string is: \",consonant)\n",
    "    return\n",
    "string=str(input(\"Enter your string: \"))\n",
    "argument(string)    \n",
    "        "
   ]
  },
  {
   "cell_type": "markdown",
   "metadata": {},
   "source": [
    "Question 8:\n",
    "Write a function that will take length and breadth for a rectangle and return perimeter and area of rectangle with 8% increment.\n"
   ]
  },
  {
   "cell_type": "code",
   "execution_count": 81,
   "metadata": {},
   "outputs": [
    {
     "name": "stdout",
     "output_type": "stream",
     "text": [
      "Area of rectangle with 8% increment is:  2.56 cm²\n",
      "Perimeter of rectangle with 8% increment is: 1.92 cm\n"
     ]
    }
   ],
   "source": [
    "def rectangle(l,b):\n",
    "    area_of_rectangle=l*b\n",
    "    perimeter_of_rectangle=2*(l+b)\n",
    "    inc_areaofrectangle=area_of_rectangle*0.08\n",
    "    inc_perimeterofrectangle=perimeter_of_rectangle*0.08\n",
    "    print(\"Area of rectangle with 8% increment is: \",inc_areaofrectangle,\"cm\\u00b2\")\n",
    "    print(\"Perimeter of rectangle with 8% increment is:\",inc_perimeterofrectangle,\"cm\")\n",
    "    return\n",
    "rectangle(4,8)"
   ]
  },
  {
   "cell_type": "markdown",
   "metadata": {},
   "source": [
    "Question 9:Write a function that can take the numbers in strings. From string find which number is even and which one is odd. Save them in two different lists and generate the result.\n"
   ]
  },
  {
   "cell_type": "code",
   "execution_count": 83,
   "metadata": {},
   "outputs": [
    {
     "name": "stdout",
     "output_type": "stream",
     "text": [
      "Enter your number: 5\n",
      "The odd lsit is ['5']\n"
     ]
    }
   ],
   "source": [
    "def evenodd(number):\n",
    "    x=int(number)\n",
    "    even=[]\n",
    "    odd=[]\n",
    "    if (x % 2 == 0):\n",
    "        x = str(number)\n",
    "        even.append(x)\n",
    "        print(\"The even list is\",even)\n",
    "    else:\n",
    "        x=str(number)\n",
    "        odd.append(x)\n",
    "        print(\"The odd list is\",odd)\n",
    "    return\n",
    "number=eval(input(\"Enter your number: \"))\n",
    "evenodd(number)"
   ]
  },
  {
   "cell_type": "markdown",
   "metadata": {},
   "source": [
    "Question 10:\n",
    "Write a function which will take the string from the user and return how many alphabets have been used in it and which alphabets are missing.\n"
   ]
  },
  {
   "cell_type": "code",
   "execution_count": null,
   "metadata": {},
   "outputs": [],
   "source": []
  },
  {
   "cell_type": "markdown",
   "metadata": {},
   "source": [
    "Question 11:Write a function that will take verbs in words and return a list of verbs with continuous tense by adding (ing) at the end of each verb.\n"
   ]
  },
  {
   "cell_type": "code",
   "execution_count": 86,
   "metadata": {},
   "outputs": [
    {
     "name": "stdout",
     "output_type": "stream",
     "text": [
      "Enter the verblaugh\n",
      "['laughing']\n"
     ]
    }
   ],
   "source": [
    "def verb(v):\n",
    "    verblist=  []\n",
    "    x=(v+\"ing\")\n",
    "    verblist.append(x)\n",
    "    print(verblist)\n",
    "    return\n",
    "v=str(input(\"Enter the verb\"))\n",
    "verb(v)"
   ]
  },
  {
   "cell_type": "markdown",
   "metadata": {},
   "source": [
    "Question 12:\n",
    "Make a function which can take two radius of circles and find the areas of it and subtract smaller one from larger one and tell the remaining area of circle.\n"
   ]
  },
  {
   "cell_type": "code",
   "execution_count": null,
   "metadata": {},
   "outputs": [],
   "source": []
  },
  {
   "cell_type": "markdown",
   "metadata": {},
   "source": [
    "Question 13:\n",
    "Write a function that will take a string and calculate number of Upper case letters and lower case letters.\n"
   ]
  },
  {
   "cell_type": "code",
   "execution_count": null,
   "metadata": {},
   "outputs": [],
   "source": []
  },
  {
   "cell_type": "markdown",
   "metadata": {},
   "source": [
    "Question 14:\n",
    "Write a function which will take length and breadth of two rectangles. Subtract the smaller rectangle from the larger rectangle and return the area left behind.\n"
   ]
  },
  {
   "cell_type": "code",
   "execution_count": null,
   "metadata": {},
   "outputs": [],
   "source": []
  },
  {
   "cell_type": "markdown",
   "metadata": {},
   "source": [
    "Question 15:\n",
    "Create a function that can add the fractions in series such as 1 to 8 = 1/8+1/7+1/6+1/5 …… ½ and return the result in fraction not in decimal.\n"
   ]
  },
  {
   "cell_type": "code",
   "execution_count": null,
   "metadata": {},
   "outputs": [],
   "source": []
  },
  {
   "cell_type": "markdown",
   "metadata": {},
   "source": [
    "Question 16:\n",
    "Write a function which will take height and base for a triangle and \n"
   ]
  },
  {
   "cell_type": "code",
   "execution_count": null,
   "metadata": {},
   "outputs": [],
   "source": []
  },
  {
   "cell_type": "markdown",
   "metadata": {},
   "source": [
    "Question 17:\n",
    "Write a function which will take a list of fruits names. The function will return how many alphabets are repetitive in the names of fruits and how many are unique letters.\n"
   ]
  },
  {
   "cell_type": "code",
   "execution_count": null,
   "metadata": {},
   "outputs": [],
   "source": []
  },
  {
   "cell_type": "markdown",
   "metadata": {},
   "source": [
    "Question 18:\n",
    "Write a function that can take square length and radius of circle. Find the area of both and subtract the smallest shape from largest one and return the remaining shape area.\n"
   ]
  },
  {
   "cell_type": "code",
   "execution_count": 85,
   "metadata": {},
   "outputs": [
    {
     "name": "stdout",
     "output_type": "stream",
     "text": [
      "Area of square is:  36 cm²\n",
      "Area of Circle is:  201.06192982974676 cm²\n",
      "The remaining area is:  165.06192982974676 cm²\n"
     ]
    }
   ],
   "source": [
    "from math import pi\n",
    "def area(l,r):\n",
    "    areaSquare= l**2\n",
    "    print(\"Area of square is: \",areaSquare,\"cm\\u00b2\")\n",
    "    areaCircle=pi*(r**2)\n",
    "    print(\"Area of Circle is: \",areaCircle,\"cm\\u00b2\")\n",
    "    if areaSquare > areaCircle:\n",
    "        x= areaSqaure-areaCircle\n",
    "        print(\"The remaining area is: \",x,\"cm\\u00b2\")\n",
    "    else:\n",
    "        x=areaCircle - areaSquare\n",
    "        print(\"The remaining area is: \",x,\"cm\\u00b2\")\n",
    "    return\n",
    "area(6,8)"
   ]
  }
 ],
 "metadata": {
  "kernelspec": {
   "display_name": "Python 3",
   "language": "python",
   "name": "python3"
  },
  "language_info": {
   "codemirror_mode": {
    "name": "ipython",
    "version": 3
   },
   "file_extension": ".py",
   "mimetype": "text/x-python",
   "name": "python",
   "nbconvert_exporter": "python",
   "pygments_lexer": "ipython3",
   "version": "3.7.3"
  }
 },
 "nbformat": 4,
 "nbformat_minor": 2
}
